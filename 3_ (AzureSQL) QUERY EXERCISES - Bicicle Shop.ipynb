{
 "cells": [
  {
   "cell_type": "markdown",
   "metadata": {},
   "source": [
    "# <center>EXERCISES BICICLE SHOP<center>\n",
    "<center> Several exercises of queries on AzureSQL using the sample database of a bicicle shop offered by the platform of Azure.<center>"
   ]
  },
  {
   "cell_type": "markdown",
   "metadata": {},
   "source": [
    "### 1. Selecciona todos los detalles de los productos cuyo precio sea mayor a 100€ (Select all the details of the products whose price is more than 100€.)"
   ]
  },
  {
   "cell_type": "code",
   "execution_count": null,
   "metadata": {},
   "outputs": [],
   "source": [
    "SELECT *\n",
    "    FROM SalesLT.Product\n",
    "    WHERE ListPrice > 100;"
   ]
  },
  {
   "cell_type": "markdown",
   "metadata": {},
   "source": [
    "            Explicación: The T-SQL query can answer the given question because it selects all the \n",
    "                        details (columns) from the \"SalesLT.Product\" table where the \"ListPrice\" column is \n",
    "                        greater than 100€."
   ]
  },
  {
   "cell_type": "markdown",
   "metadata": {},
   "source": [
    "### 2. Muestra los porductos que pertenecenm a la categoria ID 18 y tienen un peso mayor a 1000. (Displays products that belong to ID 18 category and have a weight greater than 1000)."
   ]
  },
  {
   "cell_type": "code",
   "execution_count": null,
   "metadata": {},
   "outputs": [],
   "source": [
    "SELECT p.Name, p.Weight\n",
    "    FROM SalesLT.Product AS p\n",
    "    JOIN SalesLT.ProductCategory AS pc ON p.ProductCategoryID = pc.ProductCategoryID\n",
    "    WHERE pc.ProductCategoryID = 18 AND p.Weight > 1000;"
   ]
  },
  {
   "cell_type": "markdown",
   "metadata": {},
   "source": [
    "        Explicación: The T-SQL query retrieves the names and weights of products from the \n",
    "                    SalesLT.Product table that belong to the category with ID 18 and have a weight greater \n",
    "                    than 1000."
   ]
  },
  {
   "cell_type": "markdown",
   "metadata": {},
   "source": [
    "### 3. Selecciona los nombres y precios de los productos cuyo precio esté entre 50€ y 300€ (Select the names and prices of the products whose price is between 50€ and 300€.)"
   ]
  },
  {
   "cell_type": "code",
   "execution_count": null,
   "metadata": {},
   "outputs": [],
   "source": [
    "SELECT Name, ListPrice\n",
    "    FROM SalesLT.Product\n",
    "    WHERE ListPrice BETWEEN 50 AND 300;"
   ]
  },
  {
   "cell_type": "markdown",
   "metadata": {},
   "source": [
    "        Explicación: The T-SQL query can answer the given question because it selects the names and \n",
    "             prices of the products from the \"SalesLT.Product\" table where the list price is \n",
    "             between 50€ and 300€."
   ]
  },
  {
   "cell_type": "markdown",
   "metadata": {},
   "source": [
    "### 4. Muestra cuántos productos hay en cada categoria (Shows how many products are in each category.)"
   ]
  },
  {
   "cell_type": "code",
   "execution_count": null,
   "metadata": {},
   "outputs": [],
   "source": [
    "SELECT pc.Name AS CategoryName, COUNT(p.ProductID) AS NumberOfProducts\n",
    "    FROM SalesLT.Product p\n",
    "    JOIN SalesLT.ProductCategory pc ON p.ProductCategoryID = pc.ProductCategoryID\n",
    "    GROUP BY pc.Name\n",
    "    ORDER BY pc.Name;"
   ]
  },
  {
   "cell_type": "markdown",
   "metadata": {},
   "source": [
    "        Explicación: The T-SQL query joins the \"Product\" table with the \"ProductCategory\" table \n",
    "             using the common column \"ProductCategoryID\". It then groups the results by the \n",
    "             category name and counts the number of products in each category using the COUNT \n",
    "             function. Finally, it orders the results by the category name. This query provides the \n",
    "             desired information by showing the number of products in each category."
   ]
  },
  {
   "cell_type": "markdown",
   "metadata": {},
   "source": [
    "### 5. Obten la cantidad total de ventas (cantidad de productos) por clientes. [Obtain the total amount of sales (number of products) by customer.]"
   ]
  },
  {
   "cell_type": "code",
   "execution_count": null,
   "metadata": {},
   "outputs": [],
   "source": [
    "SELECT c.CustomerID, c.FirstName, c.LastName, COUNT(*) AS TotalSales\n",
    "    FROM SalesLT.Customer AS c\n",
    "    JOIN SalesLT.SalesOrderHeader AS soh ON c.CustomerID = soh.CustomerID\n",
    "    JOIN SalesLT.SalesOrderDetail AS sod ON soh.SalesOrderID = sod.SalesOrderID\n",
    "    GROUP BY c.CustomerID, c.FirstName, c.LastName;"
   ]
  },
  {
   "cell_type": "markdown",
   "metadata": {},
   "source": [
    "        Explicación: The T-SQL query can answer the given question because it retrieves the customer \n",
    "             ID, first name, last name, and the count of sales (number of products) for each \n",
    "             customer. It achieves this by joining the Customer, SalesOrderHeader, and \n",
    "             SalesOrderDetail tables and grouping the results by the customer's ID, first name, and last \n",
    "             name."
   ]
  },
  {
   "cell_type": "markdown",
   "metadata": {},
   "source": [
    "### 6. Muestra los clientes que han comprado mas de 10 productos en total. (Displays customers who have purchased more than 10 products in total)"
   ]
  },
  {
   "cell_type": "code",
   "execution_count": null,
   "metadata": {},
   "outputs": [],
   "source": [
    "# OPTION 1\n",
    "SELECT c.CustomerID, c.FirstName, c.LastName, COUNT(*) AS TotalProductsPurchased\n",
    "    FROM SalesLT.Customer AS c\n",
    "    JOIN SalesLT.SalesOrderHeader AS soh ON c.CustomerID = soh.CustomerID\n",
    "    JOIN SalesLT.SalesOrderDetail AS sod ON soh.SalesOrderID = sod.SalesOrderID\n",
    "    GROUP BY c.CustomerID, c.FirstName, c.LastName\n",
    "    HAVING COUNT(*) > 10"
   ]
  },
  {
   "cell_type": "markdown",
   "metadata": {},
   "source": [
    "        Explicación: The T-SQL query joins the Customer, SalesOrderHeader, and SalesOrderDetail \n",
    "             tables based on their respective foreign key relationships. It then groups the results \n",
    "             by customer and calculates the count of products purchased for each customer. \n",
    "             Finally, it filters the results to only include customers who have purchased more than \n",
    "             10 products in total. Therefore, the query retrieves the customers who have \n",
    "             purchased more than 10 products in total."
   ]
  },
  {
   "cell_type": "code",
   "execution_count": null,
   "metadata": {},
   "outputs": [],
   "source": [
    "\n",
    "# OPTION 2\n",
    "SELECT c.CustomerID, c.FirstName, c.LastName, COUNT(distinct sod.ProductID) as TotalProducts\n",
    "    FROM SalesLT.Customer c\n",
    "    JOIN SalesLT.SalesOrderHeader soh ON c.CustomerID = soh.CustomerID\n",
    "    JOIN SalesLT.SalesOrderDetail sod ON soh.SalesOrderID = sod.SalesOrderID\n",
    "    GROUP BY c.CustomerID, c.FirstName, c.LastName\n",
    "    HAVING COUNT(distinct sod.ProductID) > 10;"
   ]
  },
  {
   "cell_type": "markdown",
   "metadata": {},
   "source": [
    "        Explicación: The T-SQL query retrieves the CustomerID, FirstName, and LastName of customers \n",
    "             who have purchased more than 10 distinct products. It achieves this by joining the \n",
    "             Customer, SalesOrderHeader, and SalesOrderDetail tables, counting the distinct ProductIDs \n",
    "             for each customer, and filtering the results to only include customers with a count \n",
    "             greater than 10."
   ]
  },
  {
   "cell_type": "markdown",
   "metadata": {},
   "source": [
    "### 7. Muestra el nombre de los productos junto con el nombre de la categoría a la que pertenecen. (Displays the name of the products together with the name of the category to which they belong.)"
   ]
  },
  {
   "cell_type": "code",
   "execution_count": null,
   "metadata": {},
   "outputs": [],
   "source": [
    "SELECT p.Name AS ProductName, pc.Name AS CategoryName\n",
    "    FROM SalesLT.Product AS p\n",
    "    JOIN SalesLT.ProductCategory AS pc ON p.ProductCategoryID = pc.ProductCategoryID"
   ]
  },
  {
   "cell_type": "markdown",
   "metadata": {},
   "source": [
    "        Explicación: The T-SQL query can answer the given question because it retrieves the product \n",
    "                    name and the corresponding category name by joining the SalesLT.Product table with \n",
    "                    the SalesLT.ProductCategory table using the common ProductCategoryID column."
   ]
  },
  {
   "cell_type": "markdown",
   "metadata": {},
   "source": [
    "### [REVIEW)] 8. Muestra los nombres de los productos y las fechas de las ordenes en las que han sido vendidos pero solo si fueron vendidos despues de enero de 2020 ( Shows the names of the products and the dates of the orders in which they have been sold, but only if they were sold after January 2020.) "
   ]
  },
  {
   "cell_type": "code",
   "execution_count": null,
   "metadata": {},
   "outputs": [],
   "source": [
    "SELECT p.Name, o.OrderDate\n",
    "    FROM SalesLT.Product AS p\n",
    "    JOIN SalesLT.SalesOrderDetail AS od ON p.ProductID = od.ProductID\n",
    "    JOIN SalesLT.SalesOrderHeader AS o ON od.SalesOrderID = o.SalesOrderID\n",
    "    WHERE o.OrderDate > '2020-01-01';"
   ]
  },
  {
   "cell_type": "markdown",
   "metadata": {},
   "source": [
    "        Explicación: The T-SQL query joins the necessary tables (Product, SalesOrderDetail, and \n",
    "                    SalesOrderHeader) using their respective primary and foreign keys. It selects the product\n",
    "                     names and order dates from the joined tables. The WHERE clause filters the results to \n",
    "                    only include orders placed after January 2020. Therefore, the query retrieves the \n",
    "                    names of the products and the dates of the orders in which they have been sold, but \n",
    "                    only if they were sold after January 2020. NOTE: This query contains 1 string \n",
    "                    literal(s) which may or may not be correct. The AI did not access the data values in this \n",
    "                    database when writing the query."
   ]
  },
  {
   "cell_type": "markdown",
   "metadata": {},
   "source": [
    "### 9. Muestra los nombres de los produtos y los nombres de los clientes que han comprado esos productos (Displays product names and the names of customers who have purchased those products)"
   ]
  },
  {
   "cell_type": "code",
   "execution_count": null,
   "metadata": {},
   "outputs": [],
   "source": [
    "SELECT p.Name AS ProductName, c.FirstName + ' ' + c.LastName AS CustomerName\n",
    "    FROM SalesLT.Product AS p\n",
    "    JOIN SalesLT.SalesOrderDetail AS sod ON p.ProductID = sod.ProductID\n",
    "    JOIN SalesLT.SalesOrderHeader AS soh ON sod.SalesOrderID = soh.SalesOrderID\n",
    "    JOIN SalesLT.Customer AS c ON soh.CustomerID = c.CustomerID;"
   ]
  },
  {
   "cell_type": "markdown",
   "metadata": {},
   "source": [
    "        Explicación: The T-SQL query can answer the given question because it retrieves the product \n",
    "             names and the names of customers who have purchased those products by joining the \n",
    "             necessary tables (Product, SalesOrderDetail, SalesOrderHeader, and Customer) based on \n",
    "             their respective foreign key relationships."
   ]
  },
  {
   "cell_type": "markdown",
   "metadata": {},
   "source": [
    "### 10. Encuentra los clientes que han gastado mas de 1000€ en total en productos. (Find customers who have spent more than 1000€ in total on products.)"
   ]
  },
  {
   "cell_type": "code",
   "execution_count": null,
   "metadata": {},
   "outputs": [],
   "source": [
    "SELECT c.CustomerID, c.FirstName, c.LastName, SUM(od.UnitPrice * od.OrderQty) AS TotalSpent\n",
    "    FROM SalesLT.Customer AS c\n",
    "    JOIN SalesLT.SalesOrderHeader AS soh ON c.CustomerID = soh.CustomerID\n",
    "    JOIN SalesLT.SalesOrderDetail AS od ON soh.SalesOrderID = od.SalesOrderID\n",
    "    GROUP BY c.CustomerID, c.FirstName, c.LastName\n",
    "    HAVING SUM(od.UnitPrice * od.OrderQty) > 1000;"
   ]
  },
  {
   "cell_type": "markdown",
   "metadata": {},
   "source": [
    "        Explicación: The T-SQL query can answer the given question because it retrieves the \n",
    "             CustomerID, FirstName, and LastName of customers who have spent more than 1000€ in total on \n",
    "             products. It achieves this by joining the Customer, SalesOrderHeader, and \n",
    "             SalesOrderDetail tables, calculating the total spent for each customer using the SUM function, \n",
    "             and filtering the results using the HAVING clause."
   ]
  },
  {
   "cell_type": "markdown",
   "metadata": {},
   "source": [
    "### 11. Muestra los clientes que han hecho mas de 1 compra. (Displays customers who have made more than 1 purchase.)"
   ]
  },
  {
   "cell_type": "code",
   "execution_count": null,
   "metadata": {},
   "outputs": [],
   "source": [
    "SELECT c.CustomerID, c.FirstName, c.LastName, COUNT(soh.SalesOrderID) AS PurchaseCount\n",
    "    FROM SalesLT.Customer c\n",
    "    JOIN SalesLT.SalesOrderHeader soh ON c.CustomerID = soh.CustomerID\n",
    "    GROUP BY c.CustomerID, c.FirstName, c.LastName\n",
    "    HAVING COUNT(soh.SalesOrderID) > 1;"
   ]
  },
  {
   "cell_type": "markdown",
   "metadata": {},
   "source": [
    "        Explicación: The T-SQL query retrieves the CustomerID, FirstName, and LastName of customers \n",
    "             who have made more than one purchase. It achieves this by joining the \n",
    "             SalesLT.Customer and SalesLT.SalesOrderHeader tables on the CustomerID column and grouping the \n",
    "             results by CustomerID, FirstName, and LastName. The COUNT function is used to count the \n",
    "             number of SalesOrderIDs for each customer, and the HAVING clause filters the results \n",
    "             to only include customers with a purchase count greater than 1."
   ]
  }
 ],
 "metadata": {
  "kernelspec": {
   "display_name": "Python 3",
   "language": "python",
   "name": "python3"
  },
  "language_info": {
   "codemirror_mode": {
    "name": "ipython",
    "version": 3
   },
   "file_extension": ".py",
   "mimetype": "text/x-python",
   "name": "python",
   "nbconvert_exporter": "python",
   "pygments_lexer": "ipython3",
   "version": "3.10.11"
  }
 },
 "nbformat": 4,
 "nbformat_minor": 2
}
